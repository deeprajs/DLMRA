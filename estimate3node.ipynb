{
 "cells": [
  {
   "cell_type": "code",
   "execution_count": 1,
   "metadata": {},
   "outputs": [],
   "source": [
    "#import the following packages to help run the code\n",
    "import numpy as np\n",
    "from numpy import random\n",
    "import matplotlib.pyplot as plt\n",
    "from matplotlib.lines import Line2D\n",
    "import array as arr\n",
    "import pandas as pd\n",
    "from scipy.optimize import Bounds\n",
    "import scipy.optimize as spo\n",
    "from scipy.integrate import odeint\n",
    "from scipy.integrate import solve_ivp\n",
    "%matplotlib inline"
   ]
  },
  {
   "cell_type": "code",
   "execution_count": 2,
   "metadata": {},
   "outputs": [],
   "source": [
    "#User should enter the number of multistarts\n",
    "multistart=2\n",
    "#Reads the csv file of the data in the example format. User should change the path for filename \n",
    "filename=r'C:\\Users\\Deepraj\\Documents\\PaperCode\\Papercode\\Papercode_v11\\Pythonestimator\\threenodeexample.csv'\n",
    "Ydata = pd.read_csv(filename)"
   ]
  },
  {
   "cell_type": "code",
   "execution_count": 3,
   "metadata": {},
   "outputs": [],
   "source": [
    "# This code generates simulations for the no perturbation case for a given set of parameters 'r'\n",
    "def dYdx(x,Y,r):\n",
    "    y1, y2, y3 = Y\n",
    "    S1=-(r[1]* Ydata['Y1'][0]+r[2]* Ydata['Y2'][0]+r[3]* Ydata['Y3'][0]);\n",
    "    S2=-(r[5]* Ydata['Y1'][0]+r[6]* Ydata['Y2'][0]+r[7]* Ydata['Y3'][0]);\n",
    "    S3=-(r[9]* Ydata['Y1'][0]+r[10]* Ydata['Y2'][0]+r[11]* Ydata['Y3'][0]);\n",
    "    dydx=[S1+r[0]+r[1]*y1+r[2]*y2+r[3]*y3,\n",
    "          S2+r[4]+r[5]*y1+r[6]*y2+r[7]*y3,\n",
    "          S3+r[8]+r[9]*y1+r[10]*y2+r[11]*y3]\n",
    "    return dydx\n"
   ]
  },
  {
   "cell_type": "code",
   "execution_count": 4,
   "metadata": {},
   "outputs": [],
   "source": [
    "# This code generates simulations for the case of perturbation of the first node for a given set of parameters 'r'\n",
    "def dYP1dx(x,YP1,r):\n",
    "    y2,y3 = YP1\n",
    "    S2=-(r[5]* Ydata['Y1'][0]+r[6]* Ydata['Y2'][0]+r[7]* Ydata['Y3'][0]);\n",
    "    S3=-(r[9]* Ydata['Y1'][0]+r[10]* Ydata['Y2'][0]+r[11]* Ydata['Y3'][0]);\n",
    "    dydx=[S2+r[4]+r[5]*f1(x)+r[6]*y2+r[7]*y3,\n",
    "          S3+r[8]+r[9]*f1(x)+r[10]*y2+r[11]*y3]\n",
    "    return dydx\n"
   ]
  },
  {
   "cell_type": "code",
   "execution_count": 5,
   "metadata": {},
   "outputs": [],
   "source": [
    "# This code generates simulations for the case of perturbation of the second node for a given set of parameters 'r'\n",
    "\n",
    "def dYP2dx(x,YP2,r):\n",
    "    y1,y3 = YP2\n",
    "    S1=-(r[1]* Ydata['Y1'][0]+r[2]* Ydata['Y2'][0]+r[3]* Ydata['Y3'][0]);\n",
    "    S3=-(r[9]* Ydata['Y1'][0]+r[10]* Ydata['Y2'][0]+r[11]* Ydata['Y3'][0]);\n",
    "    dydx=[S1+r[0]+r[1]*y1+r[2]*f2(x)+r[3]*y3,\n",
    "          S3+r[8]+r[9]*y1+r[10]*f2(x)+r[11]*y3]\n",
    "    return dydx\n"
   ]
  },
  {
   "cell_type": "code",
   "execution_count": 6,
   "metadata": {},
   "outputs": [],
   "source": [
    "# This code generates simulations for the case of perturbation of the third node for a given set of parameters 'r'\n",
    "def dYP3dx(x,YP3,r):\n",
    "    y1,y2 = YP3\n",
    "    S1=-(r[1]* Ydata['Y1'][0]+r[2]* Ydata['Y2'][0]+r[3]* Ydata['Y3'][0]);\n",
    "    S2=-(r[5]* Ydata['Y1'][0]+r[6]* Ydata['Y2'][0]+r[7]* Ydata['Y3'][0]);\n",
    "    dydx=[S1+r[0]+r[1]*y1+r[2]*y2+r[3]*f3(x),\n",
    "          S2+r[4]+r[5]*y1+r[6]*y2+r[7]*f3(x)]\n",
    "    return dydx"
   ]
  },
  {
   "cell_type": "code",
   "execution_count": 7,
   "metadata": {},
   "outputs": [],
   "source": [
    "# This node compares the sum of squared errors for the actuak data vs generated data for a given set of parameters 'r'\n",
    "def minfunc(r):\n",
    "    gY = odeint(dYdx, y0=Y_0, t=T, args=(r,), tfirst=True)\n",
    "    gYP1 = odeint(dYP1dx, y0=YP1_0, args=(r,), t=T, tfirst=True)\n",
    "    gYP2 = odeint(dYP2dx, y0=YP2_0, args=(r,), t=T, tfirst=True)\n",
    "    gYP3 = odeint(dYP3dx, y0=YP3_0, args=(r,), t=T, tfirst=True)\n",
    "    SSE0=np.sum(np.sum((Ydata[['Y1','Y2','Y3']]-gY)**2))\n",
    "    SSE1=np.sum(np.sum(( Ydata[['YP1_2','YP1_3']]-(gYP1))**2))\n",
    "    SSE2=np.sum(np.sum(( Ydata[['YP2_1','YP2_3']]-(gYP2))**2))\n",
    "    SSE3=np.sum(np.sum(( Ydata[['YP3_1','YP3_2']]-(gYP3))**2))\n",
    "    SSE=SSE0+SSE1+SSE2+SSE3    \n",
    "    return SSE"
   ]
  },
  {
   "cell_type": "code",
   "execution_count": 8,
   "metadata": {},
   "outputs": [
    {
     "name": "stdout",
     "output_type": "stream",
     "text": [
      "[ 1.856786   -1.51863919 -1.29580671 -0.12840403  1.39109067 -0.10162102\n",
      " -1.38090824 -1.6619988   1.29246025 -0.71586105  0.53171141 -1.70647283]\n"
     ]
    },
    {
     "name": "stderr",
     "output_type": "stream",
     "text": [
      "C:\\Users\\Deepraj\\anaconda3\\lib\\site-packages\\scipy\\optimize\\_hessian_update_strategy.py:182: UserWarning: delta_grad == 0.0. Check if the approximated function is linear. If the function is linear better results can be obtained by defining the Hessian as zero instead of using quasi-Newton approximations.\n",
      "  warn('delta_grad == 0.0. Check if the approximated '\n"
     ]
    },
    {
     "name": "stdout",
     "output_type": "stream",
     "text": [
      "[ 1.8569005  -1.51873867 -1.29589406 -0.12841987  1.39111234 -0.10162924\n",
      " -1.3809302  -1.66201395  1.2929088  -0.71611228  0.53186556 -1.70707761]\n"
     ]
    }
   ],
   "source": [
    "#param1 is the set of parameters without the basal production terms\n",
    "param1= [ [0]*12 for i in range(multistart)]\n",
    "#param2 is the set of all parameters including the basal production terms\n",
    "param2= [ [0]*15 for i in range(multistart)]\n",
    "#pred_SSE is the sum of squared errors for each multistart. If a multistart run is unsuccessful, it returns a value of 1000\n",
    "pred_SSE= [ [1000] for i in range(multistart)]\n",
    "\n",
    "T = Ydata['T']\n",
    "# generating polyfit of perturbation data. \n",
    "#User can change the order of the polynomial if desired. In this case, the order is 3. \n",
    "p1=np.polyfit(T, Ydata['YP1_1'], 4, rcond=None, full=False, w=None, cov=False)\n",
    "p2=np.polyfit(T, Ydata['YP2_2'], 4, rcond=None, full=False, w=None, cov=False)\n",
    "p3=np.polyfit(T, Ydata['YP3_3'], 4, rcond=None, full=False, w=None, cov=False)\n",
    "\n",
    "f1 = np.poly1d(p1)\n",
    "f2 = np.poly1d(p2)\n",
    "f3 = np.poly1d(p3)\n",
    "\n",
    "# Setting initial conditions\n",
    "Y_0 = (Ydata['Y1'][0],Ydata['Y2'][0],Ydata['Y3'][0])\n",
    "YP1_0 = (Ydata['YP1_2'][0],Ydata['YP1_3'][0])\n",
    "YP2_0 = (Ydata['YP2_1'][0],Ydata['YP2_3'][0])\n",
    "YP3_0 = (Ydata['YP3_1'][0],Ydata['YP3_2'][0])\n",
    "\n",
    "# User can change bounds. We found these work well\n",
    "bounds = Bounds([-10,-10,-10,-10,-10,-10,-10,-10,-10,-10,-10,-10], [10,10,10,10,10,10,10,10,10,10,10,10])\n",
    "\n",
    "for i in range(multistart):\n",
    "    r=random.rand(12)\n",
    "    #the following code tries to find the set of parameters with the least SSE, within the bounds\n",
    "    result=spo.minimize(minfunc,r,method='trust-constr',bounds=bounds,options={'xtol':0.0001,'gtol': 0.0001})\n",
    "    if result.success==True:\n",
    "        print(result.x)\n",
    "        param1[i]=list(result.x)\n",
    "        param2[i][0]=-(param1[i][1]* Ydata['Y1'][0]+param1[i][2]* Ydata['Y2'][0]+param1[i][3]* Ydata['Y3'][0])\n",
    "        param2[i][1:5]=param1[i][0:4]\n",
    "        param2[i][5]=-(param1[i][5]* Ydata['Y1'][0]+param1[i][6]* Ydata['Y2'][0]+param1[i][7]* Ydata['Y3'][0])\n",
    "        param2[i][6:10]=param1[i][4:8]\n",
    "        param2[i][10]=-(param1[i][5]* Ydata['Y1'][0]+param1[i][6]* Ydata['Y2'][0]+param1[i][7]* Ydata['Y3'][0])\n",
    "        param2[i][11:15]=param1[i][8:12]\n",
    "        pred_SSE[i]=(result.fun)\n",
    "    else:\n",
    "        r=random.rand(12)\n",
    "        result=spo.minimize(minfunc,r,method='trust-constr',bounds=bounds, options={'xtol':0.0001,'gtol': 0.0001},hess = lambda x: np.zeros((12, 12)))\n",
    "        param1[i]=list(result.x)\n",
    "        param2[i][0]=-(param1[i][1]* Ydata['Y1'][0]+param1[i][2]* Ydata['Y2'][0]+param1[i][3]* Ydata['Y3'][0])\n",
    "        param2[i][1:5]=param1[i][0:4]\n",
    "        param2[i][5]=-(param1[i][5]* Ydata['Y1'][0]+param1[i][6]* Ydata['Y2'][0]+param1[i][7]* Ydata['Y3'][0])\n",
    "        param2[i][6:10]=param1[i][4:8]\n",
    "        param2[i][10]=-(param1[i][5]* Ydata['Y1'][0]+param1[i][6]* Ydata['Y2'][0]+param1[i][7]* Ydata['Y3'][0])\n",
    "        param2[i][11:15]=param1[i][8:12]\n",
    "        pred_SSE[i]=(result.fun)\n"
   ]
  },
  {
   "cell_type": "code",
   "execution_count": 9,
   "metadata": {},
   "outputs": [
    {
     "data": {
      "text/plain": [
       "[9.903550573320985e-09, 5.5806418079441024e-09]"
      ]
     },
     "execution_count": 9,
     "metadata": {},
     "output_type": "execute_result"
    }
   ],
   "source": [
    "pred_SSE"
   ]
  },
  {
   "cell_type": "code",
   "execution_count": 10,
   "metadata": {},
   "outputs": [
    {
     "data": {
      "text/plain": [
       "[[1.7515209121752684,\n",
       "  1.856785995664219,\n",
       "  -1.5186391943246533,\n",
       "  -1.2958067115053993,\n",
       "  -0.12840403481901122,\n",
       "  1.6218588654313884,\n",
       "  1.3910906714455595,\n",
       "  -0.10162101854477112,\n",
       "  -1.3809082363494456,\n",
       "  -1.66199879711407,\n",
       "  1.6218588654313884,\n",
       "  1.2924602475830276,\n",
       "  -0.7158610527821917,\n",
       "  0.5317114085978479,\n",
       "  -1.706472825408004],\n",
       " [1.7516412063893825,\n",
       "  1.8569005016435156,\n",
       "  -1.5187386735394377,\n",
       "  -1.2958940598594386,\n",
       "  -0.12841987298298713,\n",
       "  1.6218828053145276,\n",
       "  1.391112337296301,\n",
       "  -0.1016292395078721,\n",
       "  -1.3809302037604705,\n",
       "  -1.6620139485143883,\n",
       "  1.6218828053145276,\n",
       "  1.2929087978531404,\n",
       "  -0.7161122819334318,\n",
       "  0.5318655589263437,\n",
       "  -1.7070776111581478]]"
      ]
     },
     "execution_count": 10,
     "metadata": {},
     "output_type": "execute_result"
    }
   ],
   "source": [
    "# the parameters in param2=[S1b,S1ext,F11,F12,F13,S2b,S2ext,F21,F22,F33,S3b,S3ext,F31,F32,F33]\n",
    "param2"
   ]
  },
  {
   "cell_type": "code",
   "execution_count": 11,
   "metadata": {},
   "outputs": [
    {
     "data": {
      "text/plain": [
       "1"
      ]
     },
     "execution_count": 11,
     "metadata": {},
     "output_type": "execute_result"
    }
   ],
   "source": [
    "#find the index of the set of parameters with minimum sum of squared errors\n",
    "minpos=pred_SSE.index(min(pred_SSE))\n",
    "minpos"
   ]
  },
  {
   "cell_type": "code",
   "execution_count": 12,
   "metadata": {},
   "outputs": [],
   "source": [
    "# generate data with a the set of parameters with minimum sum of squared errors\n",
    "T_pred=np.linspace(0,Ydata['T'].iloc[-1],10*len(Ydata['T']))\n",
    "Y_ss = odeint(dYdx, y0=Y_0, t=T_pred, args=(param1[minpos],), tfirst=True)\n",
    "YP1_ss = odeint(dYP1dx, y0=YP1_0, t=T_pred, args=(param1[minpos],), tfirst=True)\n",
    "YP2_ss = odeint(dYP2dx, y0=YP2_0, t=T_pred, args=(param1[minpos],), tfirst=True)\n",
    "YP3_ss = odeint(dYP3dx, y0=YP3_0, t=T_pred, args=(param1[minpos],), tfirst=True)\n",
    "Y_pred=pd.DataFrame(Y_ss)\n",
    "YP1_pred=pd.DataFrame(YP1_ss)\n",
    "YP2_pred=pd.DataFrame(YP2_ss)\n",
    "YP3_pred=pd.DataFrame(YP3_ss)"
   ]
  },
  {
   "cell_type": "code",
   "execution_count": 13,
   "metadata": {},
   "outputs": [
    {
     "data": {
      "image/png": "[encoded data removed]",
      "text/plain": [
       "<Figure size 432x288 with 4 Axes>"
      ]
     },
     "metadata": {
      "needs_background": "light"
     },
     "output_type": "display_data"
    }
   ],
   "source": [
    "# plot actual data vs model fits\n",
    "plt.figure()\n",
    "plt.subplot(1, 4, 1)\n",
    "plt.plot(T,Ydata['Y1'],'go')\n",
    "plt.plot(T_pred,Y_pred[0],'g')\n",
    "plt.plot(T,Ydata['Y2'],'bo')\n",
    "plt.plot(T_pred,Y_pred[1],'b')\n",
    "plt.plot(T,Ydata['Y3'],'ro')\n",
    "plt.plot(T_pred,Y_pred[2],'r')\n",
    "plt.title('No Perturbation')\n",
    "\n",
    "\n",
    "plt.subplot(1, 4, 2)\n",
    "plt.plot(T,Ydata['YP1_1'],'go')\n",
    "plt.plot(T,Ydata['YP1_1'],'g')\n",
    "plt.plot(T,Ydata['YP1_2'],'bo')\n",
    "plt.plot(T_pred,YP1_pred[0],'b')\n",
    "plt.plot(T,Ydata['YP1_3'],'ro')\n",
    "plt.plot(T_pred,YP1_pred[1],'r')\n",
    "plt.title('Perturbation of Node 1')\n",
    "\n",
    "plt.subplot(1, 4, 3)\n",
    "plt.plot(T,Ydata['YP2_1'],'go')\n",
    "plt.plot(T_pred,YP2_pred[0],'g')\n",
    "plt.plot(T,Ydata['YP2_2'],'bo')\n",
    "plt.plot(T,Ydata['YP2_2'],'b')\n",
    "plt.plot(T,Ydata['YP2_3'],'ro')\n",
    "plt.plot(T_pred,YP2_pred[1],'r')\n",
    "plt.title('Perturbation of Node 2')\n",
    "custom_lines = [Line2D([0], [0], color='k', marker='o', linestyle='None'),\n",
    "                Line2D([0], [0], color='k', lw=1)]\n",
    "plt.legend(custom_lines, ['Actual Data', 'Model fit'],bbox_to_anchor =(2.83, 0.5))\n",
    "\n",
    "\n",
    "plt.subplot(1, 4, 4)\n",
    "plt.plot(T,Ydata['YP3_1'],'go')\n",
    "plt.plot(T_pred,YP3_pred[0],'g')\n",
    "plt.plot(T,Ydata['YP3_2'],'bo')\n",
    "plt.plot(T_pred,YP3_pred[1],'b')\n",
    "plt.plot(T,Ydata['YP3_3'],'ro')\n",
    "plt.plot(T,Ydata['YP3_3'],'r')\n",
    "plt.title('Perturbation of Node 3')\n",
    "custom_lines = [Line2D([0], [0], color='g', lw=3),\n",
    "                Line2D([0], [0], color='b', lw=3),\n",
    "                Line2D([0], [0], color='r', lw=3)]\n",
    "plt.legend(custom_lines, ['Node 1', 'Node 2', 'Node 3'],bbox_to_anchor =(1.5, 0.8))\n",
    "plt.subplots_adjust(right=2)\n"
   ]
  }
 ],
 "metadata": {
  "kernelspec": {
   "display_name": "Python 3",
   "language": "python",
   "name": "python3"
  },
  "language_info": {
   "codemirror_mode": {
    "name": "ipython",
    "version": 3
   },
   "file_extension": ".py",
   "mimetype": "text/x-python",
   "name": "python",
   "nbconvert_exporter": "python",
   "pygments_lexer": "ipython3",
   "version": "3.8.5"
  }
 },
 "nbformat": 4,
 "nbformat_minor": 4
}
