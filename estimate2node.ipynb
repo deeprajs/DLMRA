{
 "cells": [
  {
   "cell_type": "code",
   "execution_count": 1,
   "metadata": {},
   "outputs": [],
   "source": [
    "#import the following packages to help run the code\n",
    "import numpy as np\n",
    "from numpy import random\n",
    "import matplotlib.pyplot as plt\n",
    "from matplotlib.lines import Line2D\n",
    "import array as arr\n",
    "import pandas as pd\n",
    "from scipy.optimize import Bounds\n",
    "import scipy.optimize as spo\n",
    "from scipy.integrate import odeint\n",
    "from scipy.integrate import solve_ivp\n",
    "%matplotlib inline"
   ]
  },
  {
   "cell_type": "code",
   "execution_count": 2,
   "metadata": {},
   "outputs": [],
   "source": [
    "#User should enter the number of multistarts\n",
    "multistart=2\n",
    "#Reads the csv file of the data in the example format. User should change the path for filename \n",
    "filename=r'C:\\Users\\Deepraj\\Documents\\PaperCode\\Papercode\\Papercode_v11\\Pythonestimator\\twonodeexample.csv'\n",
    "Ydata = pd.read_csv(filename)"
   ]
  },
  {
   "cell_type": "code",
   "execution_count": 3,
   "metadata": {},
   "outputs": [],
   "source": [
    "# This function generates simulations for the no perturbation case for a given set of parameters 'r'\n",
    "def dYdx(x,Y,r):\n",
    "    y1, y2 = Y\n",
    "    S1=-(r[1]* Ydata['Y1'][0]+r[2]* Ydata['Y2'][0]);\n",
    "    S2=-(r[4]* Ydata['Y1'][0]+r[5]* Ydata['Y2'][0]);\n",
    "    dydx=[S1+r[0]+r[1]*y1+r[2]*y2,\n",
    "          S2+r[3]+r[4]*y1+r[5]*y2]\n",
    "    return dydx\n"
   ]
  },
  {
   "cell_type": "code",
   "execution_count": 4,
   "metadata": {},
   "outputs": [],
   "source": [
    "# This function generates simulations for the case of perturbation of the first node for a given set of parameters 'r'\n",
    "def dYP1dx(x, YP1,r):\n",
    "    y2 = YP1\n",
    "    S2=-(r[4]* Ydata['Y1'][0]+r[5]* Ydata['Y2'][0]);\n",
    "    dydx=S2+r[3]+r[4]*f1(x)+r[5]*y2\n",
    "    return dydx\n"
   ]
  },
  {
   "cell_type": "code",
   "execution_count": 5,
   "metadata": {},
   "outputs": [],
   "source": [
    "# This function generates simulations for the case of perturbation of the first node for a given set of parameters 'r'\n",
    "def dYP2dx(x, YP2,r):\n",
    "    y1 = YP2\n",
    "    S1=-(r[1]*Ydata['Y1'][0]+r[2]* Ydata['Y2'][0]);\n",
    "    dydx=S1+r[0]+r[1]*y1+r[2]*f2(x)\n",
    "    return dydx\n"
   ]
  },
  {
   "cell_type": "code",
   "execution_count": 6,
   "metadata": {},
   "outputs": [],
   "source": [
    "# This function compares the sum of squared errors for the actual data vs generated data for a given set of parameters 'r'\n",
    "def minfunc(r):\n",
    "    gY = odeint(dYdx, y0=Y_0, t=T, args=(r,), tfirst=True)\n",
    "    gYP1 = odeint(dYP1dx, y0=YP1_0, t=T, args=(r,), tfirst=True)\n",
    "    gYP2 = odeint(dYP2dx, y0=YP2_0, t=T, args=(r,), tfirst=True)\n",
    "    SSE0=np.sum(np.sum(( Ydata[['Y1','Y2']]-gY)**2))\n",
    "    SSE1=np.sum((Ydata['YP1_2']-np.squeeze(gYP1))**2)\n",
    "    SSE2=np.sum((Ydata['YP2_1']-np.squeeze(gYP2))**2)\n",
    "    SSE=SSE0+SSE1+SSE2\n",
    "    return SSE"
   ]
  },
  {
   "cell_type": "code",
   "execution_count": 7,
   "metadata": {},
   "outputs": [
    {
     "name": "stdout",
     "output_type": "stream",
     "text": [
      "[ 0.80576392 -1.63012005 -1.40866653  0.41027951  1.82843567 -0.9826758 ]\n"
     ]
    },
    {
     "name": "stderr",
     "output_type": "stream",
     "text": [
      "C:\\Users\\Deepraj\\anaconda3\\lib\\site-packages\\scipy\\optimize\\_hessian_update_strategy.py:182: UserWarning: delta_grad == 0.0. Check if the approximated function is linear. If the function is linear better results can be obtained by defining the Hessian as zero instead of using quasi-Newton approximations.\n",
      "  warn('delta_grad == 0.0. Check if the approximated '\n"
     ]
    },
    {
     "name": "stdout",
     "output_type": "stream",
     "text": [
      "[ 0.80736983 -1.63341199 -1.41144707  0.4101242   1.8277196  -0.9822835 ]\n"
     ]
    }
   ],
   "source": [
    "#param1 is the set of parameters without the basal production terms\n",
    "param1= [ [0]*6 for i in range(multistart)]\n",
    "#param2 is the set of all parameters including the basal production terms\n",
    "param2= [ [0]*8 for i in range(multistart)]\n",
    "#pred_SSE is the sum of squared errors for each multistart. If a multistart run is unsuccessful, it returns a value of 1000\n",
    "pred_SSE= [ [1000] for i in range(multistart)]\n",
    "\n",
    "T = Ydata['T']\n",
    "\n",
    "# generating polyfit of perturbation data. \n",
    "#User can change the order of the polynomial if desired. In this case, the order is 3. \n",
    "p1=np.polyfit(T, Ydata['YP1_1'], 4, rcond=None, full=False, w=None, cov=False)\n",
    "p2=np.polyfit(T, Ydata['YP2_2'], 4, rcond=None, full=False, w=None, cov=False)\n",
    "\n",
    "f1 = np.poly1d(p1)\n",
    "f2 = np.poly1d(p2)\n",
    "\n",
    "# Setting initial conditions\n",
    "Y_0 = (Ydata['Y1'][0], Ydata['Y2'][0])\n",
    "YP1_0 = Ydata['YP1_2'][0]\n",
    "YP2_0 = Ydata['YP2_1'][0]\n",
    "\n",
    "# User can change bounds. We found these work well\n",
    "bounds = Bounds([-10,-10,-10,-10,-10,-10], [10,10,10,10,10,10])\n",
    "\n",
    "for i in range(multistart):\n",
    "    r=random.rand(6)\n",
    "    #the following code tries to find the set of parameters with the least SSE, within the bounds\n",
    "    result=spo.minimize(minfunc,r,method='trust-constr',bounds=bounds, options={'xtol':0.0001,'gtol': 0.0001})\n",
    "    if result.success==True:\n",
    "        print(result.x)\n",
    "        param1[i]=list(result.x)\n",
    "        param2[i][0]=-(param1[i][1]* Ydata['Y1'][0]+param1[i][2]* Ydata['Y2'][0]);\n",
    "        param2[i][1:4]=param1[i][0:3]\n",
    "        param2[i][4]=-(param1[i][4]* Ydata['Y1'][0]+param1[i][5]* Ydata['Y2'][0]);\n",
    "        param2[i][5:8]=param1[i][3:6]\n",
    "        pred_SSE[i]=(result.fun)\n",
    "    else:\n",
    "        result=spo.minimize(minfunc,r,method='trust-constr',bounds=bounds, options={'xtol':0.0001,'gtol': 0.0001},hess = lambda x: np.zeros((6, 6)))\n",
    "        print(result.x)\n",
    "        param1[i]=list(result.x)\n",
    "        param2[i][0]=-(param1[i][1]* Ydata['Y1'][0]+param1[i][2]* Ydata['Y2'][0]);\n",
    "        param2[i][1:4]=param1[i][0:3]\n",
    "        param2[i][4]=-(param1[i][4]* Ydata['Y1'][0]+param1[i][5]* Ydata['Y2'][0]);\n",
    "        param2[i][5:8]=param1[i][3:6]\n",
    "        pred_SSE[i]=(result.fun)\n"
   ]
  },
  {
   "cell_type": "code",
   "execution_count": 8,
   "metadata": {},
   "outputs": [
    {
     "data": {
      "text/plain": [
       "[[1.4813905174803212,\n",
       "  0.8057639184396035,\n",
       "  -1.6301200541001306,\n",
       "  -1.4086665314799371,\n",
       "  0.4827813873024296,\n",
       "  0.4102795112679841,\n",
       "  1.8284356718779184,\n",
       "  -0.9826758021834638],\n",
       " [1.4843283990906166,\n",
       "  0.8073698307857179,\n",
       "  -1.6334119912166243,\n",
       "  -1.4114470744980043,\n",
       "  0.48258607292461086,\n",
       "  0.4101241991910773,\n",
       "  1.827719603854474,\n",
       "  -0.9822834968414517]]"
      ]
     },
     "execution_count": 8,
     "metadata": {},
     "output_type": "execute_result"
    }
   ],
   "source": [
    "# the parameters in param2=[S1b,S1ext,F11,F12,S2b,S2ext,F21,F22]\n",
    "param2"
   ]
  },
  {
   "cell_type": "code",
   "execution_count": 9,
   "metadata": {},
   "outputs": [
    {
     "data": {
      "text/plain": [
       "0"
      ]
     },
     "execution_count": 9,
     "metadata": {},
     "output_type": "execute_result"
    }
   ],
   "source": [
    "#find the index of the set of parameters with minimum sum of squared errors\n",
    "minpos=pred_SSE.index(min(pred_SSE))\n",
    "minpos"
   ]
  },
  {
   "cell_type": "code",
   "execution_count": 10,
   "metadata": {},
   "outputs": [],
   "source": [
    "# generate data with a the set of parameters with minimum sum of squared errors\n",
    "T_pred=np.linspace(0,Ydata['T'].iloc[-1],10*len(Ydata['T']))\n",
    "Y_ss = odeint(dYdx, y0=Y_0, t=T_pred, args=(param1[minpos],), tfirst=True)\n",
    "YP1_ss = odeint(dYP1dx, y0=YP1_0, t=T_pred, args=(param1[minpos],), tfirst=True)\n",
    "YP2_ss = odeint(dYP2dx, y0=YP2_0, t=T_pred, args=(param1[minpos],), tfirst=True)\n",
    "Y_pred=pd.DataFrame(Y_ss)\n",
    "YP1_pred=pd.DataFrame(YP1_ss)\n",
    "YP2_pred=pd.DataFrame(YP2_ss)"
   ]
  },
  {
   "cell_type": "code",
   "execution_count": 11,
   "metadata": {},
   "outputs": [
    {
     "data": {
      "image/png": "[encoded data removed]",
      "text/plain": [
       "<Figure size 432x288 with 3 Axes>"
      ]
     },
     "metadata": {
      "needs_background": "light"
     },
     "output_type": "display_data"
    }
   ],
   "source": [
    "# plot actual data vs model fits\n",
    "plt.figure()\n",
    "plt.subplot(1, 3, 1)\n",
    "plt.plot(T,Ydata['Y1'],'go')\n",
    "plt.plot(T_pred,Y_pred[0],'g')\n",
    "plt.plot(T,Ydata['Y2'],'bo')\n",
    "plt.plot(T_pred,Y_pred[1],'b')\n",
    "plt.title('No Perturbation')\n",
    "\n",
    "plt.subplot(1, 3, 2)\n",
    "plt.plot(T,Ydata['YP1_1'],'go')\n",
    "plt.plot(T,Ydata['YP1_1'],'g')\n",
    "plt.plot(T,Ydata['YP1_2'],'bo')\n",
    "plt.plot(T_pred,YP1_pred[0],'b')\n",
    "plt.title('Perturbation of Node 1')\n",
    "custom_lines = [Line2D([0], [0], color='k', marker='o', linestyle='None'),\n",
    "                Line2D([0], [0], color='k', lw=2)]\n",
    "plt.legend(custom_lines, ['Actual Data', 'Model fit'],bbox_to_anchor =(2.7, 0.6))\n",
    "\n",
    "plt.subplot(1, 3, 3)\n",
    "plt.plot(T,Ydata['YP2_1'],'go')\n",
    "plt.plot(T_pred,YP2_pred[0],'g')\n",
    "plt.plot(T,Ydata['YP2_2'],'bo')\n",
    "plt.plot(T,Ydata['YP2_2'],'b')\n",
    "plt.title('Perturbation of Node 2')\n",
    "custom_lines = [Line2D([0], [0], color='g', lw=4),\n",
    "                Line2D([0], [0], color='b', lw=4)]\n",
    "plt.legend(custom_lines, ['Node 1', 'Node 2'],bbox_to_anchor=(1.4, 0.8))\n",
    "plt.subplots_adjust(right=2)\n"
   ]
  }
 ],
 "metadata": {
  "kernelspec": {
   "display_name": "Python 3",
   "language": "python",
   "name": "python3"
  },
  "language_info": {
   "codemirror_mode": {
    "name": "ipython",
    "version": 3
   },
   "file_extension": ".py",
   "mimetype": "text/x-python",
   "name": "python",
   "nbconvert_exporter": "python",
   "pygments_lexer": "ipython3",
   "version": "3.8.5"
  }
 },
 "nbformat": 4,
 "nbformat_minor": 4
}
