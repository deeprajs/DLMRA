{
 "cells": [
  {
   "cell_type": "code",
   "execution_count": 1,
   "metadata": {},
   "outputs": [],
   "source": [
    "#import the following packages to help run the code\n",
    "import numpy as np\n",
    "from numpy import random\n",
    "import matplotlib.pyplot as plt\n",
    "from matplotlib.lines import Line2D\n",
    "import array as arr\n",
    "import pandas as pd\n",
    "from scipy.optimize import Bounds\n",
    "import scipy.optimize as spo\n",
    "from scipy.integrate import odeint\n",
    "from scipy.integrate import solve_ivp\n",
    "%matplotlib inline"
   ]
  },
  {
   "cell_type": "code",
   "execution_count": 2,
   "metadata": {},
   "outputs": [],
   "source": [
    "#User should enter the number of multistarts\n",
    "multistart=2\n",
    "#Reads the csv file of the data in the example format. User should change the path for filename \n",
    "filename=r'C:\\Users\\Deepraj\\Documents\\PaperCode\\Papercode\\Papercode_v11\\Pythonestimator\\threenodeexample_cellstate.csv'\n",
    "Ydata = pd.read_csv(filename)"
   ]
  },
  {
   "cell_type": "code",
   "execution_count": 3,
   "metadata": {},
   "outputs": [],
   "source": [
    "# This function generates simulations for the no perturbation case for a given set of parameters 'r'\n",
    "def dYdx(x,Y,r):\n",
    "    y1, y2, y3 = Y\n",
    "    dydx=[-(r[2]+r[4])*y1+r[0]*y2+r[1]*y3,\n",
    "          r[2]*y1-(r[0]+r[5])*y2+r[3]*y3,\n",
    "          r[4]*y1+r[5]*y2-(r[3]+r[1])*y3]\n",
    "    return dydx\n"
   ]
  },
  {
   "cell_type": "code",
   "execution_count": 4,
   "metadata": {},
   "outputs": [],
   "source": [
    "# This code generates simulations for the case of perturbation of the first node for a given set of parameters 'r'\n",
    "\n",
    "def dYP1dx(x,YP1,r):\n",
    "    y2,y3 = YP1\n",
    "    dydx=[r[2]*f1(x)-(r[0]+r[5])*y2+r[3]*y3,\n",
    "          r[4]*f1(x)+r[5]*y2-(r[3]+r[1])*y3]\n",
    "    return dydx\n"
   ]
  },
  {
   "cell_type": "code",
   "execution_count": 5,
   "metadata": {},
   "outputs": [],
   "source": [
    "# This code generates simulations for the case of perturbation of the second node for a given set of parameters 'r'\n",
    "\n",
    "def dYP2dx(x,YP2,r):\n",
    "    y1,y3 = YP2\n",
    "    dydx=[-(r[2]+r[4])*y1+r[0]*f2(x)+r[1]*y3,\n",
    "          r[4]*y1+r[5]*f2(x)-(r[3]+r[1])*y3]\n",
    "    return dydx\n"
   ]
  },
  {
   "cell_type": "code",
   "execution_count": 6,
   "metadata": {},
   "outputs": [],
   "source": [
    "# This code generates simulations for the case of perturbation of the third node for a given set of parameters 'r'\n",
    "\n",
    "def dYP3dx(x,YP3,r):\n",
    "    y1,y2 = YP3\n",
    "    dydx=[-(r[2]+r[4])*y1+r[0]*y2+r[1]*f3(x),\n",
    "          r[2]*y1-(r[0]+r[5])*y2+r[3]*f3(x)]\n",
    "    return dydx"
   ]
  },
  {
   "cell_type": "code",
   "execution_count": 7,
   "metadata": {},
   "outputs": [],
   "source": [
    "# This function compares the sum of squared errors for the actual data vs generated data for a given set of parameters 'r'\n",
    "def minfunc(r):\n",
    "    gY = odeint(dYdx, y0=Y_0, t=T, args=(r,), tfirst=True)\n",
    "    gYP1 = odeint(dYP1dx, y0=YP1_0, args=(r,), t=T, tfirst=True)\n",
    "    gYP2 = odeint(dYP2dx, y0=YP2_0, args=(r,), t=T, tfirst=True)\n",
    "    gYP3 = odeint(dYP3dx, y0=YP3_0, args=(r,), t=T, tfirst=True)\n",
    "    SSE0=np.sum(np.sum((Ydata[['Y1','Y2','Y3']]-gY)**2))\n",
    "    SSE1=np.sum(np.sum(( Ydata[['YP1_2','YP1_3']]-(gYP1))**2))\n",
    "    SSE2=np.sum(np.sum(( Ydata[['YP2_1','YP2_3']]-(gYP2))**2))\n",
    "    SSE3=np.sum(np.sum(( Ydata[['YP3_1','YP3_2']]-(gYP3))**2))\n",
    "    SSE=SSE0+SSE1+SSE2+SSE3\n",
    "    return SSE"
   ]
  },
  {
   "cell_type": "code",
   "execution_count": 8,
   "metadata": {},
   "outputs": [
    {
     "name": "stdout",
     "output_type": "stream",
     "text": [
      "[0.01207995 0.07776323 0.4216258  0.68691299 0.12963871 0.0013149 ]\n",
      "[0.01198468 0.07844754 0.42173907 0.68658165 0.12937932 0.00140587]\n"
     ]
    }
   ],
   "source": [
    "#param1 is the set of parameters without the self regulating terms (which are dependent on other terms)\n",
    "param1= [[0]*6 for i in range(multistart)]\n",
    "#param1 is the set of all parameters including the self regulating terms \n",
    "param2= [[0]*9 for i in range(multistart)]\n",
    "#pred_SSE is the sum of squared errors for each multistart. If a multistart run is unsuccessful, it returns a value of 1000\n",
    "pred_SSE= [[1000] for i in range(multistart)]\n",
    "\n",
    "T = Ydata['T']\n",
    "\n",
    "# generating polyfit of perturbation data. \n",
    "#User can change the order of the polynomial if desired. In this case, the order is 5. \n",
    "\n",
    "p1=np.polyfit(T, Ydata['YP1_1'], 5, rcond=None, full=False, w=None, cov=False)\n",
    "p2=np.polyfit(T, Ydata['YP2_2'], 5, rcond=None, full=False, w=None, cov=False)\n",
    "p3=np.polyfit(T, Ydata['YP3_3'], 5, rcond=None, full=False, w=None, cov=False)\n",
    "\n",
    "f1 = np.poly1d(p1)\n",
    "f2 = np.poly1d(p2)\n",
    "f3 = np.poly1d(p3)\n",
    "\n",
    "# Setting initial conditions\n",
    "Y_0 = (Ydata['Y1'][0],Ydata['Y2'][0],Ydata['Y3'][0])\n",
    "YP1_0 = (Ydata['YP1_2'][0],Ydata['YP1_3'][0])\n",
    "YP2_0 = (Ydata['YP2_1'][0],Ydata['YP2_3'][0])\n",
    "YP3_0 = (Ydata['YP3_1'][0],Ydata['YP3_2'][0])\n",
    "\n",
    "# User can change bounds. We found these work well\n",
    "bounds = Bounds([0,0,0,0,0,0], [1,1,1,1,1,1])\n",
    "\n",
    "for i in range(multistart):\n",
    "    r=random.rand(6)\n",
    "    #the following code tries to find the set of parameters with the least SSE, within the bounds\n",
    "    result=spo.minimize(minfunc,r,method='trust-constr',bounds=bounds, options={'xtol':0.0001,'gtol': 0.0001})\n",
    "    if result.success==True:\n",
    "        print(result.x)\n",
    "        param1[i]=list(result.x)\n",
    "        param2[i][0]=-(param1[i][2]+param1[i][4])\n",
    "        param2[i][1:4]=param1[i][0:3]\n",
    "        param2[i][4]=-(param1[i][0]+param1[i][5])\n",
    "        param2[i][5:8]=param1[i][3:6]\n",
    "        param2[i][8]=-(param1[i][3]+param1[i][1])\n",
    "        pred_SSE[i]=(result.fun)\n",
    "    else:\n",
    "        result=spo.minimize(minfunc,r,method='trust-constr',bounds=bounds,options={'xtol':0.0001,'gtol': 0.0001}, hess = lambda x: np.zeros((12, 12)))\n",
    "        print(result.x)\n",
    "        param1[i]=list(result.x)\n",
    "        param2[i][0]=-(param1[i][2]+param1[i][4])\n",
    "        param2[i][1:4]=param1[i][0:3]\n",
    "        param2[i][4]=-(param1[i][0]+param1[i][5])\n",
    "        param2[i][5:8]=param1[i][3:6]\n",
    "        param2[i][8]=-(param1[i][3]+param1[i][1])\n",
    "        pred_SSE[i]=(result.fun)    "
   ]
  },
  {
   "cell_type": "code",
   "execution_count": 9,
   "metadata": {},
   "outputs": [
    {
     "data": {
      "text/plain": [
       "[[-0.5512645106377316,\n",
       "  0.012079948084847502,\n",
       "  0.07776323407524201,\n",
       "  0.42162579699155395,\n",
       "  -0.013394844892955816,\n",
       "  0.6869129899633708,\n",
       "  0.12963871364617763,\n",
       "  0.0013148968081083134,\n",
       "  -0.7646762240386128],\n",
       " [-0.5511183962777007,\n",
       "  0.011984675605826969,\n",
       "  0.07844754222141781,\n",
       "  0.42173907143229533,\n",
       "  -0.013390541556481894,\n",
       "  0.6865816463341828,\n",
       "  0.1293793248454053,\n",
       "  0.0014058659506549264,\n",
       "  -0.7650291885556006]]"
      ]
     },
     "execution_count": 9,
     "metadata": {},
     "output_type": "execute_result"
    }
   ],
   "source": [
    "# the parameters in param2=[F11,F12,F13,F21,F22,F33,F31,F32,F33]\n",
    "param2"
   ]
  },
  {
   "cell_type": "code",
   "execution_count": 10,
   "metadata": {},
   "outputs": [
    {
     "data": {
      "text/plain": [
       "[0.0002954550899550605, 0.00031782939042042255]"
      ]
     },
     "execution_count": 10,
     "metadata": {},
     "output_type": "execute_result"
    }
   ],
   "source": [
    "pred_SSE"
   ]
  },
  {
   "cell_type": "code",
   "execution_count": 11,
   "metadata": {},
   "outputs": [
    {
     "data": {
      "text/plain": [
       "0"
      ]
     },
     "execution_count": 11,
     "metadata": {},
     "output_type": "execute_result"
    }
   ],
   "source": [
    "#find the index of the set of parameters with minimum sum of squared errors\n",
    "minpos=pred_SSE.index(min(pred_SSE))\n",
    "minpos"
   ]
  },
  {
   "cell_type": "code",
   "execution_count": 12,
   "metadata": {},
   "outputs": [],
   "source": [
    "# generate data with a the set of parameters with minimum sum of squared errors\n",
    "T_pred=np.linspace(0,Ydata['T'].iloc[-1],10*len(Ydata['T']))\n",
    "Y_ss = odeint(dYdx, y0=Y_0, t=T_pred, args=(param1[minpos],), tfirst=True)\n",
    "YP1_ss = odeint(dYP1dx, y0=YP1_0, t=T_pred, args=(param1[minpos],), tfirst=True)\n",
    "YP2_ss = odeint(dYP2dx, y0=YP2_0, t=T_pred, args=(param1[minpos],), tfirst=True)\n",
    "YP3_ss = odeint(dYP3dx, y0=YP3_0, t=T_pred, args=(param1[minpos],), tfirst=True)\n",
    "\n",
    "Y_pred=pd.DataFrame(Y_ss)\n",
    "YP1_pred=pd.DataFrame(YP1_ss)\n",
    "YP2_pred=pd.DataFrame(YP2_ss)\n",
    "YP3_pred=pd.DataFrame(YP3_ss)"
   ]
  },
  {
   "cell_type": "code",
   "execution_count": 13,
   "metadata": {},
   "outputs": [
    {
     "data": {
      "image/png": "[encoded data removed]",
      "text/plain": [
       "<Figure size 432x288 with 4 Axes>"
      ]
     },
     "metadata": {
      "needs_background": "light"
     },
     "output_type": "display_data"
    }
   ],
   "source": [
    "# plot actual data vs model fits\n",
    "plt.figure()\n",
    "plt.subplot(1, 4, 1)\n",
    "plt.plot(T,Ydata['Y1'],'go')\n",
    "plt.plot(T_pred,Y_pred[0],'g')\n",
    "plt.plot(T,Ydata['Y2'],'bo')\n",
    "plt.plot(T_pred,Y_pred[1],'b')\n",
    "plt.plot(T,Ydata['Y3'],'ro')\n",
    "plt.plot(T_pred,Y_pred[2],'r')\n",
    "plt.title('No Perturbation')\n",
    "\n",
    "plt.subplot(1, 4, 2)\n",
    "plt.plot(T,Ydata['YP1_1'],'go')\n",
    "plt.plot(T,Ydata['YP1_1'],'g')\n",
    "plt.plot(T,Ydata['YP1_2'],'bo')\n",
    "plt.plot(T_pred,YP1_pred[0],'b')\n",
    "plt.plot(T,Ydata['YP1_3'],'ro')\n",
    "plt.plot(T_pred,YP1_pred[1],'r')\n",
    "plt.title('Perturbation of Node 1')\n",
    "\n",
    "plt.subplot(1, 4, 3)\n",
    "plt.plot(T,Ydata['YP2_1'],'go')\n",
    "plt.plot(T_pred,YP2_pred[0],'g')\n",
    "plt.plot(T,Ydata['YP2_2'],'bo')\n",
    "plt.plot(T,Ydata['YP2_2'],'b')\n",
    "plt.plot(T,Ydata['YP2_3'],'ro')\n",
    "plt.plot(T_pred,YP2_pred[1],'r')\n",
    "plt.title('Perturbation of Node 2')\n",
    "custom_lines = [Line2D([0], [0], color='k', marker='o', linestyle='None'),\n",
    "                Line2D([0], [0], color='k', lw=1)]\n",
    "plt.legend(custom_lines, ['Actual Data', 'Model fit'],bbox_to_anchor =(2.83, 0.5))\n",
    "\n",
    "\n",
    "plt.subplot(1, 4, 4)\n",
    "plt.plot(T,Ydata['YP3_1'],'go')\n",
    "plt.plot(T_pred,YP3_pred[0],'g')\n",
    "plt.plot(T,Ydata['YP3_2'],'bo')\n",
    "plt.plot(T_pred,YP3_pred[1],'b')\n",
    "plt.plot(T,Ydata['YP3_3'],'ro')\n",
    "plt.plot(T,Ydata['YP3_3'],'r')\n",
    "plt.title('Perturbation of Node 3')\n",
    "custom_lines = [Line2D([0], [0], color='g', lw=3),\n",
    "                Line2D([0], [0], color='b', lw=3),\n",
    "                Line2D([0], [0], color='r', lw=3)]\n",
    "plt.legend(custom_lines, ['Node 1', 'Node 2', 'Node 3'],bbox_to_anchor =(1.5, 0.8))\n",
    "\n",
    "plt.subplots_adjust(right=2)\n",
    "\n"
   ]
  }
 ],
 "metadata": {
  "kernelspec": {
   "display_name": "Python 3",
   "language": "python",
   "name": "python3"
  },
  "language_info": {
   "codemirror_mode": {
    "name": "ipython",
    "version": 3
   },
   "file_extension": ".py",
   "mimetype": "text/x-python",
   "name": "python",
   "nbconvert_exporter": "python",
   "pygments_lexer": "ipython3",
   "version": "3.8.5"
  }
 },
 "nbformat": 4,
 "nbformat_minor": 4
}
